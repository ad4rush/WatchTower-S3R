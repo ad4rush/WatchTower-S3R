{
 "cells": [
  {
   "cell_type": "code",
   "execution_count": 1,
   "metadata": {},
   "outputs": [
    {
     "name": "stdout",
     "output_type": "stream",
     "text": [
      "Shape: (32, 2048)\n",
      "Dtype: float32\n",
      "First snippet (first 5 values): [0.         0.         0.3366651  0.10645232 0.        ]\n"
     ]
    }
   ],
   "source": [
    "import numpy as np\n",
    "\n",
    "arr = np.load(r\"C:\\Users\\kesha\\Downloads\\SecurityVision(1)\\SecurityVision\\test_extract\\Assault004_x264_i3d.npy\")\n",
    "print(\"Shape:\", arr.shape)\n",
    "print(\"Dtype:\", arr.dtype)\n",
    "print(\"First snippet (first 5 values):\", arr[0][:5])"
   ]
  }
 ],
 "metadata": {
  "kernelspec": {
   "display_name": "Python 3",
   "language": "python",
   "name": "python3"
  },
  "language_info": {
   "codemirror_mode": {
    "name": "ipython",
    "version": 3
   },
   "file_extension": ".py",
   "mimetype": "text/x-python",
   "name": "python",
   "nbconvert_exporter": "python",
   "pygments_lexer": "ipython3",
   "version": "3.10.11"
  }
 },
 "nbformat": 4,
 "nbformat_minor": 2
}
